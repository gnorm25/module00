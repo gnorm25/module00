{
 "cells": [
  {
   "cell_type": "code",
   "execution_count": 1,
   "metadata": {},
   "outputs": [
    {
     "name": "stdout",
     "output_type": "stream",
     "text": [
      "Cuda ready!\n"
     ]
    }
   ],
   "source": [
    "# Linux\n",
    "import torch\n",
    "if torch.cuda.is_available():\n",
    "\tprint(\"Cuda ready!\")\n",
    "\tdevice = \"cuda\"\n",
    "else:\n",
    "\tprint(\"Cuda driver not installed, device set to CPU\")\n",
    "\tdevice = \"cpu\""
   ]
  },
  {
   "cell_type": "code",
   "execution_count": 4,
   "metadata": {},
   "outputs": [
    {
     "data": {
      "text/plain": [
       "{'a': [0], 'b': [0], 'c': [0], 'd': [0]}"
      ]
     },
     "execution_count": 4,
     "metadata": {},
     "output_type": "execute_result"
    }
   ],
   "source": [
    "test= ['a', 'b', 'c', 'd']\n",
    "tt= dict.fromkeys(test, [0])\n",
    "tt"
   ]
  },
  {
   "cell_type": "code",
   "execution_count": 5,
   "metadata": {},
   "outputs": [],
   "source": [
    "\n",
    "friends= [\"muzi\", \"ryan\", \"frodo\", \"neo\"] \n",
    "gifts= [\"muzi frodo\", \"muzi frodo\", \"ryan muzi\", \"ryan muzi\", \"ryan muzi\", \"frodo muzi\", \"frodo ryan\", \"neo muzi\"] "
   ]
  },
  {
   "cell_type": "code",
   "execution_count": 22,
   "metadata": {},
   "outputs": [
    {
     "data": {
      "text/plain": [
       "True"
      ]
     },
     "execution_count": 22,
     "metadata": {},
     "output_type": "execute_result"
    }
   ],
   "source": [
    "dbd_2= dict.fromkeys(friends, [0, ])\n",
    "dbd= {\"muzi\": [0], \"ryan\": [0], \"frodo\": [0], \"neo\": [0]}\n",
    "dbd_2==dbd"
   ]
  },
  {
   "cell_type": "code",
   "execution_count": 20,
   "metadata": {},
   "outputs": [
    {
     "data": {
      "text/plain": [
       "{'muzi': [0], 'ryan': [0], 'frodo': [0], 'neo': [0]}"
      ]
     },
     "execution_count": 20,
     "metadata": {},
     "output_type": "execute_result"
    }
   ],
   "source": [
    "dbd= dict.fromkeys(friends, [0, ])\n",
    "dbd"
   ]
  },
  {
   "cell_type": "code",
   "execution_count": 21,
   "metadata": {},
   "outputs": [
    {
     "data": {
      "text/plain": [
       "{'muzi': [0], 'ryan': [0], 'frodo': [0], 'neo': [0]}"
      ]
     },
     "execution_count": 21,
     "metadata": {},
     "output_type": "execute_result"
    }
   ],
   "source": [
    "dbd= {\"muzi\": [0], \"ryan\": [0], \"frodo\": [0], \"neo\": [0]}\n",
    "dbd"
   ]
  },
  {
   "cell_type": "code",
   "execution_count": 23,
   "metadata": {},
   "outputs": [
    {
     "data": {
      "text/plain": [
       "{'muzi': [-3, 'frodo', 'frodo'],\n",
       " 'ryan': [2, 'muzi', 'muzi', 'muzi'],\n",
       " 'frodo': [0, 'muzi', 'ryan'],\n",
       " 'neo': [1, 'muzi']}"
      ]
     },
     "execution_count": 23,
     "metadata": {},
     "output_type": "execute_result"
    }
   ],
   "source": [
    "\n",
    "for x in gifts: \n",
    "    give, save = x.split()\n",
    "    dbd[give][0]+= 1 \n",
    "    dbd[save][0]-= 1 \n",
    "    dbd[give].append(save)\n",
    "dbd\n",
    "    "
   ]
  },
  {
   "cell_type": "code",
   "execution_count": null,
   "metadata": {},
   "outputs": [],
   "source": [
    "def solution(friends, gifts): \n",
    "    index= {friend: [0] for friend in friends}\n",
    "    answer= {friend: 0 for friend in friends}\n",
    "    \n",
    "    for x in gifts: \n",
    "        give, receive = x.split()\n",
    "        index[give][0]+= 1 \n",
    "        index[receive][0]-= 1 \n",
    "        index[give].append(receive)\n",
    "        \n",
    "    for x in range(len(friends)-1): \n",
    "        for y in range(x+1, len(friends)): \n",
    "            a= index[friends[x]].count(friends[y])\n",
    "            b= index[friends[y]].count(friends[x])\n",
    "            if a==b: \n",
    "                if index[friends[x]][0]>index[friends[y]][0]:\n",
    "                    answer[friends[x]]+= 1\n",
    "                elif index[friends[x]][0]<index[friends[y]][0]:\n",
    "                    answer[friends[y]]+= 1\n",
    "            elif a>b: \n",
    "                answer[friends[x]]+= 1\n",
    "            else: \n",
    "                answer[friends[y]]+= 1\n",
    "    return max(answer.values())\n",
    "        "
   ]
  }
 ],
 "metadata": {
  "kernelspec": {
   "display_name": "module0",
   "language": "python",
   "name": "python3"
  },
  "language_info": {
   "codemirror_mode": {
    "name": "ipython",
    "version": 3
   },
   "file_extension": ".py",
   "mimetype": "text/x-python",
   "name": "python",
   "nbconvert_exporter": "python",
   "pygments_lexer": "ipython3",
   "version": "3.12.4"
  }
 },
 "nbformat": 4,
 "nbformat_minor": 2
}
