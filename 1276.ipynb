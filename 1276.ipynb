{
 "cells": [
  {
   "cell_type": "code",
   "execution_count": 4,
   "metadata": {},
   "outputs": [
    {
     "name": "stdout",
     "output_type": "stream",
     "text": [
      "3 [40, 80, 60]\n"
     ]
    }
   ],
   "source": [
    "N= int(input())\n",
    "score= list(map(int, input().split()))\n",
    "print(N, score)"
   ]
  },
  {
   "cell_type": "code",
   "execution_count": 7,
   "metadata": {},
   "outputs": [],
   "source": [
    "M= max(score)"
   ]
  },
  {
   "cell_type": "code",
   "execution_count": 9,
   "metadata": {},
   "outputs": [
    {
     "data": {
      "text/plain": [
       "75.0"
      ]
     },
     "execution_count": 9,
     "metadata": {},
     "output_type": "execute_result"
    }
   ],
   "source": [
    "sum(score)/N/M*100"
   ]
  },
  {
   "cell_type": "code",
   "execution_count": null,
   "metadata": {},
   "outputs": [],
   "source": []
  },
  {
   "cell_type": "code",
   "execution_count": 47,
   "metadata": {},
   "outputs": [
    {
     "name": "stdout",
     "output_type": "stream",
     "text": [
      "[[1, 5, 10], [3, 1, 5], [5, 3, 7]]\n"
     ]
    }
   ],
   "source": [
    "N= int(input()) \n",
    "line= [] \n",
    "for x in range(N): \n",
    "    line.append(list(map(int, input().split()))) \n",
    "print(line) "
   ]
  },
  {
   "cell_type": "code",
   "execution_count": 48,
   "metadata": {},
   "outputs": [
    {
     "data": {
      "text/plain": [
       "[[1, 5, 10], [3, 1, 5], [5, 3, 7]]"
      ]
     },
     "execution_count": 48,
     "metadata": {},
     "output_type": "execute_result"
    }
   ],
   "source": [
    "line.sort()\n",
    "line"
   ]
  },
  {
   "cell_type": "code",
   "execution_count": 49,
   "metadata": {},
   "outputs": [
    {
     "name": "stdout",
     "output_type": "stream",
     "text": [
      "14\n"
     ]
    }
   ],
   "source": [
    "lence= 0 \n",
    "\n",
    "for idx, xalue in enumerate(line): \n",
    "    high_left= [] \n",
    "    high_right= [] \n",
    "\n",
    "    for yalue in line[:idx]: \n",
    "        if yalue[1] < xalue[1] < yalue[2]: \n",
    "            high_left.append(yalue[0]) \n",
    "        if yalue[1] < xalue[2] < yalue[2]: \n",
    "            high_right.append(yalue[0]) \n",
    "\n",
    "    if high_left: \n",
    "        lence+= xalue[0] - high_left[-1]\n",
    "    else: \n",
    "        lence+= xalue[0]\n",
    "    if high_right: \n",
    "        lence+= xalue[0] - high_right[-1]\n",
    "    else: \n",
    "        lence+= xalue[0]   \n",
    "\n",
    "print(lence)"
   ]
  },
  {
   "cell_type": "code",
   "execution_count": null,
   "metadata": {},
   "outputs": [],
   "source": [
    "N= int(input())\n",
    "line= []\n",
    "for x in range(N): \n",
    "    line.append(list(map(int, input().split())))\n",
    "\n",
    "line.sort()\n",
    "\n",
    "lence= 0\n",
    "\n",
    "for idx, xalue in enumerate(line): \n",
    "    high_left= []\n",
    "    high_right= []\n",
    "\n",
    "    for yalue in line[:idx]:\n",
    "        if yalue[1] < xalue[1] < yalue[2]: \n",
    "            high_left.append(yalue[0])\n",
    "        if yalue[1] < xalue[2] < yalue[2]: \n",
    "            high_right.append(yalue[0])\n",
    "\n",
    "    if high_left: \n",
    "        lence+= xalue[0] - high_left[-1]\n",
    "    else: \n",
    "        lence+= xalue[0]\n",
    "    if high_right: \n",
    "        lence+= xalue[0] - high_right[-1]\n",
    "    else: \n",
    "        lence+= xalue[0]   \n",
    "\n",
    "print(lence)"
   ]
  },
  {
   "cell_type": "code",
   "execution_count": null,
   "metadata": {},
   "outputs": [],
   "source": []
  }
 ],
 "metadata": {
  "kernelspec": {
   "display_name": "module0",
   "language": "python",
   "name": "python3"
  },
  "language_info": {
   "codemirror_mode": {
    "name": "ipython",
    "version": 3
   },
   "file_extension": ".py",
   "mimetype": "text/x-python",
   "name": "python",
   "nbconvert_exporter": "python",
   "pygments_lexer": "ipython3",
   "version": "3.12.4"
  }
 },
 "nbformat": 4,
 "nbformat_minor": 2
}
